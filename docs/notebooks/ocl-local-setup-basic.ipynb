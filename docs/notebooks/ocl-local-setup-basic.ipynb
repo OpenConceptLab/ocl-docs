{
 "cells": [
  {
   "cell_type": "markdown",
   "id": "4130dad7-6559-4c0f-bef3-67fbe817280b",
   "metadata": {},
   "source": [
    "# Instructions to setup your local OCL dev environment\n",
    "These instructions walk you through setting up and running docker containers for the following projects:\n",
    "- `oclapi2` - [OCL Terminology Server](https://github.com/OpenConceptLab/oclapi2), the back-end that powers OCL and exposes the OCL API\n",
    "- `oclweb2` - [OCL TermBrowser v2](https://github.com/OpenConceptLab/oclweb2), a stable production version of a user interface to interact with the OCL terminology server\n",
    "\n",
    "**Prerequisites:**\n",
    "- Docker Engine v28 or higher (Note: Docker Engine is bundled with Docker Desktop)\n",
    "\n",
    "**Steps:**\n",
    "1. Clone `oclapi2` repo\n",
    "2. Build API and ElasticSearch services\n",
    "3. Setup OCL TermBrowser v2 (`oclweb2`)\n",
    "4. Test API request and get API token for `ocladmin`\n"
   ]
  },
  {
   "cell_type": "markdown",
   "id": "11ad500d-123c-4821-85e7-501de3164013",
   "metadata": {},
   "source": [
    "## 1. Clone `oclapi2` repo\n",
    "The `oclapi2` repo is the OCL Terminology Server, a back-end service that powers OCL and exposes the OCL API.\n",
    "\n",
    "Checkout the `master` branch to use the latest stable release\n",
    "\n",
    "Note: The clone and checkout steps can also be completed in GitHub Desktop app"
   ]
  },
  {
   "cell_type": "code",
   "execution_count": null,
   "id": "9533b3de-a1aa-4df1-88f3-db890a0459bc",
   "metadata": {},
   "outputs": [],
   "source": [
    "%%bash\n",
    "mkdir oclapi2\n",
    "cd oclapi2\n",
    "git clone https://github.com/OpenConceptLab/oclapi2.git\n",
    "git checkout master"
   ]
  },
  {
   "cell_type": "markdown",
   "id": "9c01f5cb-a7b6-46c3-a4e7-55e65087ebc9",
   "metadata": {},
   "source": [
    "## 2. Build API and ElasticSearch services\n",
    "This step builds the `oclapi2` container. Double check that you are running Docker Engine v28 or higher.\n",
    "\n",
    "If setting up on a mac, run the second command and comment out the first one:"
   ]
  },
  {
   "cell_type": "code",
   "execution_count": null,
   "id": "66504192-ef90-4712-8b6d-b1ba4c349a6c",
   "metadata": {},
   "outputs": [],
   "source": [
    "%%bash\n",
    "\n",
    "#For most environments:\n",
    "docker compose up -d --build api es\n",
    "\n",
    "#For Docker 4.38 on Mac:\n",
    "#docker-compose up --build api es -d"
   ]
  },
  {
   "cell_type": "markdown",
   "id": "d7fd442a-979d-45b3-8c98-025ced91309d",
   "metadata": {},
   "source": [
    "Now verify that `oclapi2` docker services are up and running. You may need to adjust the directory structure to match your setup:"
   ]
  },
  {
   "cell_type": "code",
   "execution_count": null,
   "id": "b422482d-db96-46d0-bae3-1f94466b785c",
   "metadata": {},
   "outputs": [],
   "source": [
    "!cd ../oclapi2; docker-compose ps"
   ]
  },
  {
   "cell_type": "markdown",
   "id": "54bdebba-4423-4ce6-8c23-0419e9b6d42a",
   "metadata": {},
   "source": [
    "## 3. Setup OCL TermBrowser v2 (`oclweb2`)\n",
    "The OCL TermBrowser v2 provides a user interface for interacting with the OCL Terminology Server. `oclweb2` is the name of the GitHub repository for OCL TermBrowser v2 and is a stable production-ready product. Note that OCL TermBrowser v3 (`oclweb3`) is under active development and is not yet fully released.\n",
    "\n",
    "Notes:\n",
    "- Git clone & checkout steps can also be completed in GitHub Desktop app.\n",
    "- Docker compose is run here with default settings, which uses django-auth for sign-in. If you wish to configure KeyCloak locally, please refer to the advanced documentation.\n",
    "\n",
    "Validation steps:\n",
    "- To validate `oclweb2` is running, open http://localhost:4000/ in a web browser"
   ]
  },
  {
   "cell_type": "code",
   "execution_count": null,
   "id": "876068c5-1b31-4a26-a02d-b9ef785de098",
   "metadata": {},
   "outputs": [],
   "source": [
    "%%bash\n",
    "mkdir ../oclweb2\n",
    "cd ../oclweb2\n",
    "git clone https://github.com/OpenConceptLab/oclweb2.git\n",
    "git checkout master\n",
    "docker-compose up -d"
   ]
  },
  {
   "cell_type": "markdown",
   "id": "81bb5cac-2371-4357-963d-c061b240ff96",
   "metadata": {},
   "source": [
    "## 4. Test API request and get API token for `ocladmin`\n",
    "* `oclapi2/core/settings.py` - default values for the `ocladmin` password and API token are defined here: https://github.com/OpenConceptLab/oclapi2/blob/master/core/settings.py#L362\n",
    "* Documentation on authenticating here: https://docs.openconceptlab.org/en/latest/oclapi/overview.html#authentication-and-authorization"
   ]
  },
  {
   "cell_type": "code",
   "execution_count": null,
   "id": "0edc74f4-a177-4adc-9a14-ea04aa254fd7",
   "metadata": {
    "scrolled": true
   },
   "outputs": [],
   "source": [
    "%%bash\n",
    "curl -X POST http://localhost:8000/users/login/ \\\n",
    "  -H \"Content-Type: application/json\" \\\n",
    "  -d '{\"username\":\"ocladmin\", \"password\":\"Root123\"}'"
   ]
  },
  {
   "cell_type": "markdown",
   "id": "2bb2ce85-3723-4001-9f6c-30121247af45",
   "metadata": {},
   "source": [
    "### Verify that other services are running\n",
    "Services should respond to these requests:\n",
    "- Elastic Search: http://localhost:9200/\n",
    "- FHIR Validator: http://localhost:3500/"
   ]
  },
  {
   "cell_type": "markdown",
   "id": "20bae91a-92cc-4824-b513-0911c1e806e0",
   "metadata": {},
   "source": [
    "## What's next?\n",
    "Congratulations! You are now running the OCL Terminology Server (`oclapi2`) and OCL TermBrowser v2 (`oclweb2`). As a next step, you may want to [bulk import](https://docs.openconceptlab.org/en/latest/oclapi/apireference/bulkimporting.html), testing out the API (see [OCL Docs API Reference](https://docs.openconceptlab.org/en/latest/oclapi/apireference/index.html), or create content manually in the TermBrowser.\n",
    "\n",
    "Now that your local dev environment is set up, this is also a good time to visit [OCL's issue tracker](https://github.com/OpenConceptLab/ocl_issues) to find a ticket that you take on.\n"
   ]
  }
 ],
 "metadata": {
  "kernelspec": {
   "display_name": "Python 3 (ipykernel)",
   "language": "python",
   "name": "python3"
  },
  "language_info": {
   "codemirror_mode": {
    "name": "ipython",
    "version": 3
   },
   "file_extension": ".py",
   "mimetype": "text/x-python",
   "name": "python",
   "nbconvert_exporter": "python",
   "pygments_lexer": "ipython3",
   "version": "3.13.1"
  }
 },
 "nbformat": 4,
 "nbformat_minor": 5
}
